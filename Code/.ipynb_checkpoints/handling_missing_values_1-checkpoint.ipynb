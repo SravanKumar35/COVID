{
 "cells": [
  {
   "cell_type": "code",
   "execution_count": 1,
   "metadata": {},
   "outputs": [],
   "source": [
    "import pandas as pd"
   ]
  },
  {
   "cell_type": "code",
   "execution_count": 2,
   "metadata": {},
   "outputs": [],
   "source": [
    "import os\n",
    "os.chdir('G:\\\\Required\\\\College\\\\8th sem\\\\Major Project\\\\COVID\\\\Final\\\\')\n"
   ]
  },
  {
   "cell_type": "code",
   "execution_count": 3,
   "metadata": {},
   "outputs": [],
   "source": [
    "lm_read = \"LowMiddle\\\\CSVs\\\\Original Data\\\\\"\n",
    "lm_save = \"LowMiddle\\\\CSVs\\\\Pre-Processed Data\\\\\"\n",
    "sa_read = \"SouthAsia\\\\CSVs\\\\Original Data\\\\\"\n",
    "sa_save = \"SouthAsia\\\\CSVs\\\\Pre-Processed Data\\\\\"\n",
    "ext = \".csv\"\n"
   ]
  },
  {
   "cell_type": "code",
   "execution_count": 4,
   "metadata": {},
   "outputs": [],
   "source": [
    "lowMiddle = [\"Angola\", \"Bangladesh\", \"Bhutan\", \"Bolivia\", \"Cape Verde\", \"Cambodia\", \"Cameroon\", \"Congo\", \"Cote d'Ivoire\", \"Djibouti\", \"Egypt\", \"El Salvador\", \"Swaziland\", \"Ghana\", \"Honduras\", \"India\", \"Indonesia\", \"Kenya\", \"Kyrgyzstan\", \"Laos\", \"Mauritania\", \"Moldova\", \"Mongolia\", \"Morocco\", \"Myanmar\", \"Nicaragua\", \"Nigeria\", \"Pakistan\", \"Papua New Guinea\", \"Philippines\", \"Sao Tome and Principe\", \"Senegal\", \"Sudan\", \"Timor\", \"Tunisia\", \"Ukraine\", \"Uzbekistan\", \"Vietnam\", \"Zambia\", \"Zimbabwe\"]\n",
    "south_asia = [\"Bangladesh\", \"Bhutan\", \"India\", \"Maldives\", \"Nepal\", \"Pakistan\",\"Sri Lanka\" ]"
   ]
  },
  {
   "cell_type": "code",
   "execution_count": 5,
   "metadata": {},
   "outputs": [],
   "source": [
    "for i in lowMiddle:\n",
    "    temp = pd.read_csv(lm_read+i+ext, index_col='date')\n",
    "    temp.index = pd.DatetimeIndex(temp.index)\n",
    "    temp = temp.resample('D').first().fillna(\"NA\")\n",
    "    temp['location'] = temp['location'][0]\n",
    "    temp.to_csv(lm_save+i+ext)\n",
    "    \n",
    "    \n"
   ]
  },
  {
   "cell_type": "code",
   "execution_count": 6,
   "metadata": {},
   "outputs": [],
   "source": [
    "for i in south_asia:\n",
    "    temp = pd.read_csv(sa_read+i+ext, index_col='date')\n",
    "    temp.index = pd.DatetimeIndex(temp.index)\n",
    "    temp = temp.resample('D').first().fillna(\"NA\")\n",
    "    temp['location'] = temp['location'][0]\n",
    "    temp.to_csv(sa_save+i+ext)\n",
    "    \n",
    "   "
   ]
  },
  {
   "cell_type": "code",
   "execution_count": null,
   "metadata": {},
   "outputs": [],
   "source": []
  }
 ],
 "metadata": {
  "kernelspec": {
   "display_name": "Python 3",
   "language": "python",
   "name": "python3"
  },
  "language_info": {
   "codemirror_mode": {
    "name": "ipython",
    "version": 3
   },
   "file_extension": ".py",
   "mimetype": "text/x-python",
   "name": "python",
   "nbconvert_exporter": "python",
   "pygments_lexer": "ipython3",
   "version": "3.7.1"
  }
 },
 "nbformat": 4,
 "nbformat_minor": 2
}
